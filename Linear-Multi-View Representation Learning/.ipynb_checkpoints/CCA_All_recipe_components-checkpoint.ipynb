{
 "cells": [
  {
   "cell_type": "code",
   "execution_count": 1,
   "id": "5901b330",
   "metadata": {},
   "outputs": [
    {
     "name": "stdout",
     "output_type": "stream",
     "text": [
      "(619408, 768)\n",
      "(619408, 2048)\n",
      "(134286, 768)\n",
      "(134286, 2048)\n"
     ]
    }
   ],
   "source": [
    "#Running CCA on all text (title+ingredients+instructions) and images\n",
    "from cca_zoo.models import CCA\n",
    "from sklearn.model_selection import train_test_split\n",
    "import numpy as np\n",
    "import torch\n",
    "file_text_train = 'full_text_best_train.pkl'\n",
    "file_img_train = 'full_img_train.pkl'\n",
    "file_text_test = 'full_text_best_test.pkl'\n",
    "file_img_test = 'full_img_test.pkl'\n",
    "X_train= torch.load('/common/home/apc120/Downloads/'+file_text_train).numpy()\n",
    "y_train = torch.load('/common/home/apc120/Downloads/'+file_img_train).numpy()\n",
    "X_test= torch.load('/common/home/apc120/Downloads/'+file_text_test).numpy()\n",
    "y_test = torch.load('/common/home/apc120/Downloads/'+file_img_test).numpy()\n",
    "\n",
    "print(X_train.shape)\n",
    "print(y_train.shape)\n",
    "print(X_test.shape)\n",
    "print(y_test.shape)"
   ]
  },
  {
   "cell_type": "code",
   "execution_count": 2,
   "id": "0ad777e2",
   "metadata": {},
   "outputs": [
    {
     "name": "stdout",
     "output_type": "stream",
     "text": [
      "dimension: 50\n",
      "projections extracted\n",
      "Mean median 42.5\n",
      "Recall {1: 0.04909999999999999, 5: 0.16529999999999997, 10: 0.25339999999999996}\n",
      "Result: {'mean_median': 42.5, 'recall': {1: 0.04909999999999999, 5: 0.16529999999999997, 10: 0.25339999999999996}, 'median_all': [45.0, 40.0, 39.5, 42.0, 41.5, 45.0, 41.0, 42.0, 43.0, 46.0]}\n"
     ]
    }
   ],
   "source": [
    "#At each iteration we sample 1k & 10k records from the projection data and record the recall and median rank. We then take an average over the whole data to get average median rank and recall values\n",
    "import random\n",
    "dimensions = [50]\n",
    "results_dict = {}\n",
    "txt_sample=None\n",
    "img_sample=None\n",
    "for dim in dimensions:\n",
    "    print(\"dimension:\",dim)\n",
    "    model = CCA(dim)\n",
    "    model.fit((X_train,y_train))\n",
    "    projection_txt,projection_img = model.transform((X_test,y_test))\n",
    "    print(\"projections extracted\")\n",
    "    idxs = range(1000)\n",
    "    glob_rank = []\n",
    "    glob_recall = {1:0.0,5:0.0,10:0.0}\n",
    "\n",
    "    for i in range(10):\n",
    "        ids = random.sample(range(0,X_test.shape[0]-1), 1000)\n",
    "        txt_sample = projection_txt[ids,:]\n",
    "        img_sample = projection_img[ids,:]\n",
    "        similarity = np.dot(txt_sample,img_sample.T)\n",
    "        med_rank = []\n",
    "        recall = {1:0.0,5:0.0,10:0.0}\n",
    "        for ii in idxs:\n",
    "            # get a column of similarities\n",
    "            sim = similarity[ii,:]\n",
    "            # sort indices in descending order\n",
    "            sorting = np.argsort(sim)[::-1].tolist()\n",
    "            # find where the index of the pair sample ended up in the sorting\n",
    "            pos = sorting.index(ii)  \n",
    "            if (pos+1) == 1:\n",
    "                recall[1]+=1\n",
    "            if (pos+1) <=5:\n",
    "                recall[5]+=1\n",
    "            if (pos+1)<=10:\n",
    "                recall[10]+=1\n",
    "            # store the position\n",
    "            med_rank.append(pos+1)\n",
    "        for i in recall.keys():\n",
    "            recall[i]=recall[i]/1000\n",
    "        med = np.median(med_rank)\n",
    "        for i in recall.keys():\n",
    "            glob_recall[i]+=recall[i]\n",
    "        glob_rank.append(med)\n",
    "\n",
    "    for i in glob_recall.keys():\n",
    "        glob_recall[i] = glob_recall[i]/10\n",
    "    med_dict = {}\n",
    "    med_dict[\"mean_median\"] = np.average(glob_rank)\n",
    "    med_dict[\"recall\"] = glob_recall\n",
    "    med_dict[\"median_all\"] = glob_rank\n",
    "    print(\"Mean median\", np.average(glob_rank))\n",
    "    print(\"Recall\", glob_recall)\n",
    "    print(\"Result:\",med_dict)\n",
    "    results_dict[dim] = med_dict"
   ]
  },
  {
   "cell_type": "code",
   "execution_count": null,
   "id": "56eda8f2",
   "metadata": {},
   "outputs": [],
   "source": []
  }
 ],
 "metadata": {
  "kernelspec": {
   "display_name": "Python 3 (ipykernel)",
   "language": "python",
   "name": "python3"
  },
  "language_info": {
   "codemirror_mode": {
    "name": "ipython",
    "version": 3
   },
   "file_extension": ".py",
   "mimetype": "text/x-python",
   "name": "python",
   "nbconvert_exporter": "python",
   "pygments_lexer": "ipython3",
   "version": "3.9.7"
  }
 },
 "nbformat": 4,
 "nbformat_minor": 5
}
