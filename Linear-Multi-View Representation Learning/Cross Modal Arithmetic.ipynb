{
 "cells": [
  {
   "cell_type": "code",
   "execution_count": 1047,
   "id": "b2639c72",
   "metadata": {},
   "outputs": [],
   "source": [
    "!export CUDA_VISIBLE_DEVICES='2'"
   ]
  },
  {
   "cell_type": "code",
   "execution_count": 1048,
   "id": "3e800d5e",
   "metadata": {},
   "outputs": [],
   "source": [
    "import pickle\n",
    "import os\n",
    "os.environ['CUDA_VISIBLE_DEVICES'] = '2'\n",
    "import torch\n",
    "import json\n",
    "import pandas as pd\n",
    "import numpy as np\n",
    "from tqdm import tqdm"
   ]
  },
  {
   "cell_type": "code",
   "execution_count": 1049,
   "id": "e7a28b3b",
   "metadata": {},
   "outputs": [],
   "source": [
    "## using the train embeddings given\n",
    "f = open('full/embeddings_train1.pkl', 'rb')\n",
    "d_train = pickle.load(f)"
   ]
  },
  {
   "cell_type": "code",
   "execution_count": 1050,
   "id": "44095136",
   "metadata": {},
   "outputs": [
    {
     "data": {
      "text/plain": [
       "(281598, 1)"
      ]
     },
     "execution_count": 1050,
     "metadata": {},
     "output_type": "execute_result"
    }
   ],
   "source": [
    "### extracting embedding in a sequence\n",
    "df_train = pd.DataFrame({'id':d_train[2]})\n",
    "df_train.reset_index(inplace=True)\n",
    "df_train = df_train.set_index('id')\n",
    "df_train.shape"
   ]
  },
  {
   "cell_type": "code",
   "execution_count": 1051,
   "id": "842054b5",
   "metadata": {},
   "outputs": [],
   "source": [
    "## using the train embeddings given\n",
    "f = open('full/embeddings_test1.pkl', 'rb')\n",
    "d_test = pickle.load(f)"
   ]
  },
  {
   "cell_type": "code",
   "execution_count": 1042,
   "id": "d527c140",
   "metadata": {},
   "outputs": [
    {
     "data": {
      "text/plain": [
       "(60740, 1)"
      ]
     },
     "execution_count": 1042,
     "metadata": {},
     "output_type": "execute_result"
    }
   ],
   "source": [
    "### extracting test embedding in a sequence\n",
    "\n",
    "df_test = pd.DataFrame({'id':d_test[2]})\n",
    "df_test.reset_index(inplace=True)\n",
    "df_test = df_test.set_index('id')\n",
    "df_test.shape"
   ]
  },
  {
   "cell_type": "code",
   "execution_count": 14,
   "id": "128374b8",
   "metadata": {},
   "outputs": [],
   "source": [
    "# Data maps to map text and images to each other\n",
    "TEXT_LAYERS = 'recipe1M_layers/layer2.json'\n",
    "f = open(TEXT_LAYERS, 'rb')\n",
    "data_map = json.load(f)"
   ]
  },
  {
   "cell_type": "code",
   "execution_count": 17,
   "id": "b3d38eef",
   "metadata": {},
   "outputs": [
    {
     "data": {
      "text/plain": [
       "(402760, 1)"
      ]
     },
     "execution_count": 17,
     "metadata": {},
     "output_type": "execute_result"
    }
   ],
   "source": [
    "# Data maps\n",
    "data_map_list = []\n",
    "for i in data_map:\n",
    "    for j in i['images']:\n",
    "        data_map_list.append([i['id'], j['id']])\n",
    "        break\n",
    "data_map_df = pd.DataFrame(data_map_list, columns=['id', 'image_id'])\n",
    "data_map_df['id'] = data_map_df['id'].astype(str)\n",
    "data_map_df.reset_index(inplace=True)\n",
    "data_map_df.drop(columns=['index'], inplace=True)\n",
    "data_map_df = data_map_df.set_index('id')\n",
    "data_map_df.shape"
   ]
  },
  {
   "cell_type": "code",
   "execution_count": 19,
   "id": "fe1da873",
   "metadata": {},
   "outputs": [
    {
     "data": {
      "text/html": [
       "<div>\n",
       "<style scoped>\n",
       "    .dataframe tbody tr th:only-of-type {\n",
       "        vertical-align: middle;\n",
       "    }\n",
       "\n",
       "    .dataframe tbody tr th {\n",
       "        vertical-align: top;\n",
       "    }\n",
       "\n",
       "    .dataframe thead th {\n",
       "        text-align: right;\n",
       "    }\n",
       "</style>\n",
       "<table border=\"1\" class=\"dataframe\">\n",
       "  <thead>\n",
       "    <tr style=\"text-align: right;\">\n",
       "      <th></th>\n",
       "      <th>index</th>\n",
       "      <th>title</th>\n",
       "    </tr>\n",
       "    <tr>\n",
       "      <th>id</th>\n",
       "      <th></th>\n",
       "      <th></th>\n",
       "    </tr>\n",
       "  </thead>\n",
       "  <tbody>\n",
       "    <tr>\n",
       "      <th>000018c8a5</th>\n",
       "      <td>0</td>\n",
       "      <td>Worlds Best Mac and Cheese</td>\n",
       "    </tr>\n",
       "    <tr>\n",
       "      <th>000033e39b</th>\n",
       "      <td>1</td>\n",
       "      <td>Dilly Macaroni Salad Recipe</td>\n",
       "    </tr>\n",
       "    <tr>\n",
       "      <th>000035f7ed</th>\n",
       "      <td>2</td>\n",
       "      <td>Gazpacho</td>\n",
       "    </tr>\n",
       "    <tr>\n",
       "      <th>00003a70b1</th>\n",
       "      <td>3</td>\n",
       "      <td>Crunchy Onion Potato Bake</td>\n",
       "    </tr>\n",
       "    <tr>\n",
       "      <th>00004320bb</th>\n",
       "      <td>4</td>\n",
       "      <td>Cool 'n Easy Creamy Watermelon Pie</td>\n",
       "    </tr>\n",
       "  </tbody>\n",
       "</table>\n",
       "</div>"
      ],
      "text/plain": [
       "            index                               title\n",
       "id                                                   \n",
       "000018c8a5      0          Worlds Best Mac and Cheese\n",
       "000033e39b      1         Dilly Macaroni Salad Recipe\n",
       "000035f7ed      2                            Gazpacho\n",
       "00003a70b1      3           Crunchy Onion Potato Bake\n",
       "00004320bb      4  Cool 'n Easy Creamy Watermelon Pie"
      ]
     },
     "execution_count": 19,
     "metadata": {},
     "output_type": "execute_result"
    }
   ],
   "source": [
    "# extracting text information for title\n",
    "TEXT_LAYERS_1 = 'recipe1M_layers/layer1.json'\n",
    "f = open(TEXT_LAYERS_1, 'rb')\n",
    "text_map = json.load(f)\n",
    "text_data_list = []\n",
    "for i in text_map:\n",
    "    text_data_list.append([i['id'], i['title']])\n",
    "text_map_df = pd.DataFrame(text_data_list, columns=['id', 'title'])\n",
    "text_map_df['id'] = text_map_df['id'].astype(str)\n",
    "text_map_df.reset_index(inplace=True)\n",
    "text_map_df = text_map_df.set_index('id')\n",
    "text_map_df.head()"
   ]
  },
  {
   "cell_type": "code",
   "execution_count": 41,
   "id": "ce0eed70",
   "metadata": {},
   "outputs": [
    {
     "data": {
      "text/html": [
       "<div>\n",
       "<style scoped>\n",
       "    .dataframe tbody tr th:only-of-type {\n",
       "        vertical-align: middle;\n",
       "    }\n",
       "\n",
       "    .dataframe tbody tr th {\n",
       "        vertical-align: top;\n",
       "    }\n",
       "\n",
       "    .dataframe thead th {\n",
       "        text-align: right;\n",
       "    }\n",
       "</style>\n",
       "<table border=\"1\" class=\"dataframe\">\n",
       "  <thead>\n",
       "    <tr style=\"text-align: right;\">\n",
       "      <th></th>\n",
       "      <th>index_left</th>\n",
       "      <th>image_id</th>\n",
       "      <th>index_right</th>\n",
       "      <th>title</th>\n",
       "    </tr>\n",
       "    <tr>\n",
       "      <th>id</th>\n",
       "      <th></th>\n",
       "      <th></th>\n",
       "      <th></th>\n",
       "      <th></th>\n",
       "    </tr>\n",
       "  </thead>\n",
       "  <tbody>\n",
       "    <tr>\n",
       "      <th>000075604a</th>\n",
       "      <td>0</td>\n",
       "      <td>6bdca6e490.jpg</td>\n",
       "      <td>6</td>\n",
       "      <td>kombu tea grilled chicken thigh</td>\n",
       "    </tr>\n",
       "    <tr>\n",
       "      <th>00007bfd16</th>\n",
       "      <td>1</td>\n",
       "      <td>6409eab844.jpg</td>\n",
       "      <td>7</td>\n",
       "      <td>strawberry rhubarb dump cake</td>\n",
       "    </tr>\n",
       "    <tr>\n",
       "      <th>000095fc1d</th>\n",
       "      <td>2</td>\n",
       "      <td>a1374cdd98.jpg</td>\n",
       "      <td>8</td>\n",
       "      <td>yogurt parfaits</td>\n",
       "    </tr>\n",
       "    <tr>\n",
       "      <th>0000b1e2b5</th>\n",
       "      <td>3</td>\n",
       "      <td>cb1a684683.jpg</td>\n",
       "      <td>11</td>\n",
       "      <td>fennel-rubbed pork tenderloin with roasted fen...</td>\n",
       "    </tr>\n",
       "    <tr>\n",
       "      <th>0000c79afb</th>\n",
       "      <td>4</td>\n",
       "      <td>2f4b4c4452.jpg</td>\n",
       "      <td>12</td>\n",
       "      <td>pink sangria</td>\n",
       "    </tr>\n",
       "  </tbody>\n",
       "</table>\n",
       "</div>"
      ],
      "text/plain": [
       "            index_left        image_id  index_right  \\\n",
       "id                                                    \n",
       "000075604a           0  6bdca6e490.jpg            6   \n",
       "00007bfd16           1  6409eab844.jpg            7   \n",
       "000095fc1d           2  a1374cdd98.jpg            8   \n",
       "0000b1e2b5           3  cb1a684683.jpg           11   \n",
       "0000c79afb           4  2f4b4c4452.jpg           12   \n",
       "\n",
       "                                                        title  \n",
       "id                                                             \n",
       "000075604a                    kombu tea grilled chicken thigh  \n",
       "00007bfd16                       strawberry rhubarb dump cake  \n",
       "000095fc1d                                    yogurt parfaits  \n",
       "0000b1e2b5  fennel-rubbed pork tenderloin with roasted fen...  \n",
       "0000c79afb                                       pink sangria  "
      ]
     },
     "execution_count": 41,
     "metadata": {},
     "output_type": "execute_result"
    }
   ],
   "source": [
    "train_data_map_df = df_train.join(data_map_df).join(text_map_df, lsuffix='_left', rsuffix='_right')\n",
    "train_data_map_df['title'] = train_data_map_df['title'].str.lower()\n",
    "train_data_map_df.head()"
   ]
  },
  {
   "cell_type": "code",
   "execution_count": 42,
   "id": "59170d46",
   "metadata": {},
   "outputs": [
    {
     "data": {
      "text/html": [
       "<div>\n",
       "<style scoped>\n",
       "    .dataframe tbody tr th:only-of-type {\n",
       "        vertical-align: middle;\n",
       "    }\n",
       "\n",
       "    .dataframe tbody tr th {\n",
       "        vertical-align: top;\n",
       "    }\n",
       "\n",
       "    .dataframe thead th {\n",
       "        text-align: right;\n",
       "    }\n",
       "</style>\n",
       "<table border=\"1\" class=\"dataframe\">\n",
       "  <thead>\n",
       "    <tr style=\"text-align: right;\">\n",
       "      <th></th>\n",
       "      <th>index_left</th>\n",
       "      <th>image_id</th>\n",
       "      <th>index_right</th>\n",
       "      <th>title</th>\n",
       "    </tr>\n",
       "    <tr>\n",
       "      <th>id</th>\n",
       "      <th></th>\n",
       "      <th></th>\n",
       "      <th></th>\n",
       "      <th></th>\n",
       "    </tr>\n",
       "  </thead>\n",
       "  <tbody>\n",
       "    <tr>\n",
       "      <th>00003a70b1</th>\n",
       "      <td>0</td>\n",
       "      <td>3e233001e2.jpg</td>\n",
       "      <td>3</td>\n",
       "      <td>crunchy onion potato bake</td>\n",
       "    </tr>\n",
       "    <tr>\n",
       "      <th>00047059be</th>\n",
       "      <td>1</td>\n",
       "      <td>1657f23729.jpg</td>\n",
       "      <td>61</td>\n",
       "      <td>butternut squash soup or bisque (roasting method)</td>\n",
       "    </tr>\n",
       "    <tr>\n",
       "      <th>00059477e2</th>\n",
       "      <td>2</td>\n",
       "      <td>3020f58577.jpg</td>\n",
       "      <td>83</td>\n",
       "      <td>gyro meat loaf w/ tzatziki sauce</td>\n",
       "    </tr>\n",
       "    <tr>\n",
       "      <th>000731b459</th>\n",
       "      <td>3</td>\n",
       "      <td>1b970a4a0d.jpg</td>\n",
       "      <td>105</td>\n",
       "      <td>cauliflower \"mac &amp; cheese\" bake</td>\n",
       "    </tr>\n",
       "    <tr>\n",
       "      <th>0007a28fe7</th>\n",
       "      <td>4</td>\n",
       "      <td>6187a834d7.jpg</td>\n",
       "      <td>112</td>\n",
       "      <td>calico beans</td>\n",
       "    </tr>\n",
       "  </tbody>\n",
       "</table>\n",
       "</div>"
      ],
      "text/plain": [
       "            index_left        image_id  index_right  \\\n",
       "id                                                    \n",
       "00003a70b1           0  3e233001e2.jpg            3   \n",
       "00047059be           1  1657f23729.jpg           61   \n",
       "00059477e2           2  3020f58577.jpg           83   \n",
       "000731b459           3  1b970a4a0d.jpg          105   \n",
       "0007a28fe7           4  6187a834d7.jpg          112   \n",
       "\n",
       "                                                        title  \n",
       "id                                                             \n",
       "00003a70b1                          crunchy onion potato bake  \n",
       "00047059be  butternut squash soup or bisque (roasting method)  \n",
       "00059477e2                   gyro meat loaf w/ tzatziki sauce  \n",
       "000731b459                    cauliflower \"mac & cheese\" bake  \n",
       "0007a28fe7                                       calico beans  "
      ]
     },
     "execution_count": 42,
     "metadata": {},
     "output_type": "execute_result"
    }
   ],
   "source": [
    "test_data_map_df = df_test.join(data_map_df).join(text_map_df, lsuffix='_left', rsuffix='_right')\n",
    "test_data_map_df['title'] = test_data_map_df['title'].str.lower()\n",
    "test_data_map_df.head()"
   ]
  },
  {
   "cell_type": "code",
   "execution_count": 36,
   "id": "54c44e1d",
   "metadata": {},
   "outputs": [
    {
     "data": {
      "text/plain": [
       "(torch.Size([281598, 1024]), torch.Size([60740, 1024]))"
      ]
     },
     "execution_count": 36,
     "metadata": {},
     "output_type": "execute_result"
    }
   ],
   "source": [
    "train_text_features = torch.tensor(d_train[1])\n",
    "train_img_features = torch.tensor(d_train[0])\n",
    "\n",
    "test_text_features = torch.tensor(d_test[1])\n",
    "test_img_features = torch.tensor(d_test[0])\n",
    "\n",
    "train_text_features.shape, test_text_features.shape"
   ]
  },
  {
   "cell_type": "code",
   "execution_count": 1018,
   "id": "fee4f88f",
   "metadata": {},
   "outputs": [],
   "source": [
    "from cca_zoo.models.rcca import CCA\n",
    "model = CCA(50)"
   ]
  },
  {
   "cell_type": "code",
   "execution_count": 1019,
   "id": "0e6f26a0",
   "metadata": {},
   "outputs": [],
   "source": [
    "model = model.fit((train_text_features, train_img_features))"
   ]
  },
  {
   "cell_type": "code",
   "execution_count": 1020,
   "id": "b2aa8f04",
   "metadata": {},
   "outputs": [],
   "source": [
    "trans_train_text_features, trans_train_img_features = model.transform((train_text_features, train_img_features))"
   ]
  },
  {
   "cell_type": "code",
   "execution_count": 1021,
   "id": "89ed9d0f",
   "metadata": {},
   "outputs": [],
   "source": [
    "trans_test_text_features, trans_test_img_features = model.transform((test_text_features, test_img_features))"
   ]
  },
  {
   "cell_type": "code",
   "execution_count": 1060,
   "id": "bd5ed9f5",
   "metadata": {},
   "outputs": [],
   "source": [
    "full_data = []"
   ]
  },
  {
   "cell_type": "code",
   "execution_count": 1069,
   "id": "0eeac0c5",
   "metadata": {},
   "outputs": [
    {
     "data": {
      "text/plain": [
       "((1277, 4), (17210, 4))"
      ]
     },
     "execution_count": 1069,
     "metadata": {},
     "output_type": "execute_result"
    }
   ],
   "source": [
    "#finding the mean cake and cup-cake vector\n",
    "all_cake = train_data_map_df[train_data_map_df['title'].str.contains('cake') & train_data_map_df['title'].str.contains('chocolate')]\n",
    "just_cake = train_data_map_df[train_data_map_df['title'].str.contains('lasagna')]\n",
    "cup_cake = train_data_map_df[train_data_map_df['title'].str.contains('salad') ]\n",
    "\n",
    "\n",
    "cake_mean = np.mean(trans_train_text_features[just_cake['index_left']], axis=0)\n",
    "cup_cake_mean = np.mean(trans_train_text_features[cup_cake['index_left']], axis=0)\n",
    "just_cake.shape, cup_cake.shape"
   ]
  },
  {
   "cell_type": "code",
   "execution_count": 1070,
   "id": "fdf66966",
   "metadata": {},
   "outputs": [
    {
     "data": {
      "text/html": [
       "<div>\n",
       "<style scoped>\n",
       "    .dataframe tbody tr th:only-of-type {\n",
       "        vertical-align: middle;\n",
       "    }\n",
       "\n",
       "    .dataframe tbody tr th {\n",
       "        vertical-align: top;\n",
       "    }\n",
       "\n",
       "    .dataframe thead th {\n",
       "        text-align: right;\n",
       "    }\n",
       "</style>\n",
       "<table border=\"1\" class=\"dataframe\">\n",
       "  <thead>\n",
       "    <tr style=\"text-align: right;\">\n",
       "      <th></th>\n",
       "      <th>index_left</th>\n",
       "      <th>image_id</th>\n",
       "      <th>index_right</th>\n",
       "      <th>title</th>\n",
       "    </tr>\n",
       "    <tr>\n",
       "      <th>id</th>\n",
       "      <th></th>\n",
       "      <th></th>\n",
       "      <th></th>\n",
       "      <th></th>\n",
       "    </tr>\n",
       "  </thead>\n",
       "  <tbody>\n",
       "    <tr>\n",
       "      <th>26545a1c8f</th>\n",
       "      <td>9053</td>\n",
       "      <td>b4b09acf9a.jpg</td>\n",
       "      <td>154311</td>\n",
       "      <td>mexican-style chicken lasagna</td>\n",
       "    </tr>\n",
       "    <tr>\n",
       "      <th>26a43f0aac</th>\n",
       "      <td>9115</td>\n",
       "      <td>6ebdb2e7a3.jpg</td>\n",
       "      <td>155591</td>\n",
       "      <td>white chicken lasagna roll ups</td>\n",
       "    </tr>\n",
       "    <tr>\n",
       "      <th>26d336442c</th>\n",
       "      <td>9153</td>\n",
       "      <td>560a449b4a.jpg</td>\n",
       "      <td>156327</td>\n",
       "      <td>cajun chicken lasagna</td>\n",
       "    </tr>\n",
       "    <tr>\n",
       "      <th>2f433dfa9e</th>\n",
       "      <td>11161</td>\n",
       "      <td>13726cedaf.jpg</td>\n",
       "      <td>190144</td>\n",
       "      <td>buffalo chicken lasagna</td>\n",
       "    </tr>\n",
       "    <tr>\n",
       "      <th>50a268be5a</th>\n",
       "      <td>19159</td>\n",
       "      <td>19bb22e585.jpg</td>\n",
       "      <td>324485</td>\n",
       "      <td>spicy chicken lasagna roll-ups</td>\n",
       "    </tr>\n",
       "    <tr>\n",
       "      <th>731ff54f43</th>\n",
       "      <td>27292</td>\n",
       "      <td>5ead00c4f2.jpg</td>\n",
       "      <td>463094</td>\n",
       "      <td>taco fiesta chicken lasagna</td>\n",
       "    </tr>\n",
       "    <tr>\n",
       "      <th>7a1c278a06</th>\n",
       "      <td>28958</td>\n",
       "      <td>c6e18a2892.jpg</td>\n",
       "      <td>490975</td>\n",
       "      <td>chicken lasagna florentine</td>\n",
       "    </tr>\n",
       "    <tr>\n",
       "      <th>7b821a3049</th>\n",
       "      <td>29249</td>\n",
       "      <td>8dffd86a1a.jpg</td>\n",
       "      <td>496543</td>\n",
       "      <td>skillet chicken lasagna roll-ups</td>\n",
       "    </tr>\n",
       "    <tr>\n",
       "      <th>b530e1a7a3</th>\n",
       "      <td>43001</td>\n",
       "      <td>1d5578f785.jpg</td>\n",
       "      <td>728729</td>\n",
       "      <td>incredible chicken lasagna</td>\n",
       "    </tr>\n",
       "    <tr>\n",
       "      <th>b8f73297e3</th>\n",
       "      <td>43944</td>\n",
       "      <td>a3b448c4f7.jpg</td>\n",
       "      <td>744008</td>\n",
       "      <td>buffalo chicken lasagna (aka buffalo \"dew-sagna\")</td>\n",
       "    </tr>\n",
       "    <tr>\n",
       "      <th>d314d0f594</th>\n",
       "      <td>50143</td>\n",
       "      <td>3293f22309.jpg</td>\n",
       "      <td>849614</td>\n",
       "      <td>everyday easy chicken lasagna</td>\n",
       "    </tr>\n",
       "    <tr>\n",
       "      <th>f13918463c</th>\n",
       "      <td>57350</td>\n",
       "      <td>29316a0319.jpg</td>\n",
       "      <td>970756</td>\n",
       "      <td>easy, low-fat chicken lasagna</td>\n",
       "    </tr>\n",
       "  </tbody>\n",
       "</table>\n",
       "</div>"
      ],
      "text/plain": [
       "            index_left        image_id  index_right  \\\n",
       "id                                                    \n",
       "26545a1c8f        9053  b4b09acf9a.jpg       154311   \n",
       "26a43f0aac        9115  6ebdb2e7a3.jpg       155591   \n",
       "26d336442c        9153  560a449b4a.jpg       156327   \n",
       "2f433dfa9e       11161  13726cedaf.jpg       190144   \n",
       "50a268be5a       19159  19bb22e585.jpg       324485   \n",
       "731ff54f43       27292  5ead00c4f2.jpg       463094   \n",
       "7a1c278a06       28958  c6e18a2892.jpg       490975   \n",
       "7b821a3049       29249  8dffd86a1a.jpg       496543   \n",
       "b530e1a7a3       43001  1d5578f785.jpg       728729   \n",
       "b8f73297e3       43944  a3b448c4f7.jpg       744008   \n",
       "d314d0f594       50143  3293f22309.jpg       849614   \n",
       "f13918463c       57350  29316a0319.jpg       970756   \n",
       "\n",
       "                                                        title  \n",
       "id                                                             \n",
       "26545a1c8f                      mexican-style chicken lasagna  \n",
       "26a43f0aac                     white chicken lasagna roll ups  \n",
       "26d336442c                              cajun chicken lasagna  \n",
       "2f433dfa9e                            buffalo chicken lasagna  \n",
       "50a268be5a                     spicy chicken lasagna roll-ups  \n",
       "731ff54f43                        taco fiesta chicken lasagna  \n",
       "7a1c278a06                         chicken lasagna florentine  \n",
       "7b821a3049                   skillet chicken lasagna roll-ups  \n",
       "b530e1a7a3                         incredible chicken lasagna  \n",
       "b8f73297e3  buffalo chicken lasagna (aka buffalo \"dew-sagna\")  \n",
       "d314d0f594                      everyday easy chicken lasagna  \n",
       "f13918463c                      easy, low-fat chicken lasagna  "
      ]
     },
     "execution_count": 1070,
     "metadata": {},
     "output_type": "execute_result"
    }
   ],
   "source": [
    "test_data_map_df[test_data_map_df['title'].str.contains('chicken lasagna')]"
   ]
  },
  {
   "cell_type": "code",
   "execution_count": 1071,
   "id": "90714ccb",
   "metadata": {},
   "outputs": [],
   "source": [
    "# doing the arithmetic operation for chocolate cake - cake + cupcake = chocolate cupcake\n",
    "data = {}\n",
    "\n",
    "_id = \"d314d0f594\"\n",
    "data['test_image'] = {'id' : _id, 'title': test_data_map_df[test_data_map_df.index == _id]['title'].values[0], 'image_id': test_data_map_df[test_data_map_df.index == _id]['image_id'].values[0]}\n",
    "\n",
    "chocolate_cake = test_img_features[test_data_map_df[test_data_map_df.index == _id]['index_left']]\n",
    "chocolate_cake_mean = np.mean(trans_train_img_features[np.dot(chocolate_cake, train_img_features.T).argsort().reshape(-1, )[-4:]], axis=0)\n",
    "nn4_df = train_data_map_df.iloc[np.dot(chocolate_cake, train_img_features.T).argsort().reshape(-1, )[-4:]]\n",
    "\n",
    "cake_mean_nn4_df = train_data_map_df.iloc[np.dot(cake_mean, trans_train_img_features.T).argsort().reshape(-1, )[-4:]]\n",
    "cup_cake_mean_nn4_df = train_data_map_df.iloc[np.dot(cup_cake_mean, trans_train_img_features.T).argsort().reshape(-1, )[-4:]]\n",
    "\n",
    "data['closest'] = []\n",
    "for i,j in zip(nn4_df['title'], nn4_df['image_id']):\n",
    "    data['closest'].append([i, j])\n",
    "\n",
    "data['closet_minus'] = []\n",
    "for i,j in zip(cake_mean_nn4_df['title'], cake_mean_nn4_df['image_id']):\n",
    "    data['closet_minus'].append([i, j])\n",
    "\n",
    "data['closet_plus'] = []\n",
    "for i,j in zip(cup_cake_mean_nn4_df['title'], cup_cake_mean_nn4_df['image_id']):\n",
    "    data['closet_plus'].append([i, j])\n",
    "\n",
    "\n",
    "chocolate_cup_cake = chocolate_cake_mean.reshape(1, -1) - 1 * cake_mean.reshape(1, -1) + 1 * cup_cake_mean.reshape(1, -1)\n",
    "retrieved_df = train_data_map_df.iloc[np.argmax(np.dot(chocolate_cup_cake, trans_train_img_features.T))]\n",
    "data['retr'] = {'title': retrieved_df['title'], 'image_id': retrieved_df['image_id']}\n",
    "full_data.append(data)"
   ]
  },
  {
   "cell_type": "code",
   "execution_count": 1072,
   "id": "66833c8d",
   "metadata": {},
   "outputs": [
    {
     "data": {
      "text/plain": [
       "[{'test_image': {'id': '032752603d',\n",
       "   'title': 'guinness chocolate cake',\n",
       "   'image_id': '5b55b733a6.jpg'},\n",
       "  'closest': [['chocolate-guinness cheesecake', 'ed01c82813.jpg'],\n",
       "   ['sweet or sour cream chocolate cake', '1171377fd6.jpg'],\n",
       "   ['straight to your hips chocolate cake', '0e9a3741ae.jpg'],\n",
       "   ['vegan chocolate cake', 'fcca9a1d51.jpg']],\n",
       "  'closet_minus': [[\"buttermilk devil's food cake with freshly squeezed orange cream cheese frosting\",\n",
       "    'f0c3e43775.jpg'],\n",
       "   ['orange chocolate marble cake with orange buttercream frosting',\n",
       "    'a549018052.jpg'],\n",
       "   ['rum caramel cake (cake mix)', 'e327c921ce.jpg'],\n",
       "   ['chocolate buttermilk cake', '2c5255ee09.jpg']],\n",
       "  'closet_plus': [['fresh orange cupcakes with double chocolate frosting',\n",
       "    'def4897df0.jpg'],\n",
       "   ['hi-hat cupcake', 'b97c7b9132.jpg'],\n",
       "   ['peppermint mocha cupcakes', '0aef51313a.jpg'],\n",
       "   ['devils food cupcakes with vanilla buttercream', 'cfe534dad6.jpg']],\n",
       "  'retr': {'title': 'chocolate cupcakes with chocolate cream cheese frosting',\n",
       "   'image_id': 'a848bedfa8.jpg'}},\n",
       " {'test_image': {'id': '26545a1c8f',\n",
       "   'title': 'mexican-style chicken lasagna',\n",
       "   'image_id': 'b4b09acf9a.jpg'},\n",
       "  'closest': [['easy lasagna for a special day', '00fd6882b0.jpg'],\n",
       "   ['mexican chicken casserole', '588c5fa2c9.jpg'],\n",
       "   ['lasagna parisiense', 'ce15ecb145.jpg'],\n",
       "   ['mandys irish lasagna', 'c038f96339.jpg']],\n",
       "  'closet_minus': [['lasagna made easy', '7b7f1a4852.jpg'],\n",
       "   ['made-over lasagna', '3cda0cb809.jpg'],\n",
       "   ['pepperoni lasagna', '83fa23cf29.jpg'],\n",
       "   ['cheesy meat lasagna made over', '10b1fcb6fd.jpg']],\n",
       "  'closet_plus': [['artichoke pizza', '2caa18440f.jpg'],\n",
       "   ['easy & light pizzas (on pita bread)', '5323e1d6de.jpg'],\n",
       "   ['sweet onion pizza', '3c3eada511.jpg'],\n",
       "   ['four cheese pizza', '6d74b26edb.jpg']],\n",
       "  'retr': {'title': 'chicken bacon ranch pizza',\n",
       "   'image_id': '76263ac4d5.jpg'}},\n",
       " {'test_image': {'id': 'd314d0f594',\n",
       "   'title': 'everyday easy chicken lasagna',\n",
       "   'image_id': '3293f22309.jpg'},\n",
       "  'closest': [['simply lasagna', 'd262273139.jpg'],\n",
       "   ['easy ravioli lasagna bake', 'a055c7035a.jpg'],\n",
       "   ['easy 4 cheese lasagna', '227b9060cf.jpg'],\n",
       "   ['everyday easy chicken lasagna', '1ddc3a49b9.jpg']],\n",
       "  'closet_minus': [['lasagna made easy', '7b7f1a4852.jpg'],\n",
       "   ['made-over lasagna', '3cda0cb809.jpg'],\n",
       "   ['pepperoni lasagna', '83fa23cf29.jpg'],\n",
       "   ['cheesy meat lasagna made over', '10b1fcb6fd.jpg']],\n",
       "  'closet_plus': [['nectarine salad with minted chili dressing',\n",
       "    'a9f9890351.jpg'],\n",
       "   ['maggiano salad', '9647958c24.jpg'],\n",
       "   ['greens and herbs salad with orange ginger vinaigrette', 'd81cfd6dce.jpg'],\n",
       "   ['peach/green salad', '8d80e8d1f3.jpg']],\n",
       "  'retr': {'title': 'classic italian chicken salad',\n",
       "   'image_id': '632a3dd21c.jpg'}}]"
      ]
     },
     "execution_count": 1072,
     "metadata": {},
     "output_type": "execute_result"
    }
   ],
   "source": [
    "full_data"
   ]
  },
  {
   "cell_type": "code",
   "execution_count": null,
   "id": "1100cfe5",
   "metadata": {},
   "outputs": [],
   "source": []
  }
 ],
 "metadata": {
  "kernelspec": {
   "display_name": "Python 3 (ipykernel)",
   "language": "python",
   "name": "python3"
  },
  "language_info": {
   "codemirror_mode": {
    "name": "ipython",
    "version": 3
   },
   "file_extension": ".py",
   "mimetype": "text/x-python",
   "name": "python",
   "nbconvert_exporter": "python",
   "pygments_lexer": "ipython3",
   "version": "3.8.10"
  }
 },
 "nbformat": 4,
 "nbformat_minor": 5
}
