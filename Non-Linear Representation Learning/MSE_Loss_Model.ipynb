{
 "cells": [
  {
   "cell_type": "code",
   "execution_count": null,
   "id": "0f76969e",
   "metadata": {},
   "outputs": [],
   "source": [
    "!nvidia-smi"
   ]
  },
  {
   "cell_type": "code",
   "execution_count": null,
   "id": "a7620846",
   "metadata": {},
   "outputs": [],
   "source": [
    "import os\n",
    "import pickle\n",
    "os.environ[\"CUDA_VISIBLE_DEVICES\"]=\"0,1\""
   ]
  },
  {
   "cell_type": "code",
   "execution_count": null,
   "id": "6a5a611c",
   "metadata": {},
   "outputs": [],
   "source": [
    "os.getcwd()"
   ]
  },
  {
   "cell_type": "code",
   "execution_count": null,
   "id": "935c19e0",
   "metadata": {},
   "outputs": [],
   "source": [
    "import pickle\n",
    "import torch\n",
    "with open('/common/home/apc120/Downloads/labelled/labelled_data.pkl', 'rb') as f:\n",
    "    obj = f.read()\n",
    "    data = pickle.loads(obj, encoding='latin1')\n",
    "\n",
    "\n",
    "with open('/common/home/apc120/Downloads/labelled/embeddings_val1.pkl', 'rb') as f:\n",
    "    val_emb = pickle.load(f)\n",
    "val_img = val_emb[0]\n",
    "val_txt = val_emb[1]\n",
    "\n",
    "with open('/common/home/apc120/Downloads/labelled/embeddings_test1.pkl', 'rb') as f:\n",
    "    test_emb = pickle.load(f)\n",
    "test_img = torch.tensor(test_emb[0]).to('cuda')\n",
    "test_txt = torch.tensor(test_emb[1]).to('cuda')"
   ]
  },
  {
   "cell_type": "code",
   "execution_count": null,
   "id": "83f9c0a2",
   "metadata": {},
   "outputs": [],
   "source": [
    "def pickle_load(file):\n",
    "    with open(file, 'rb') as f:\n",
    "        return pickle.load(f)"
   ]
  },
  {
   "cell_type": "code",
   "execution_count": null,
   "id": "9c98a3d0",
   "metadata": {},
   "outputs": [],
   "source": [
    "val_txt = val_emb[1]\n",
    "val_img = val_emb[0]"
   ]
  },
  {
   "cell_type": "code",
   "execution_count": null,
   "id": "5cb4b71d",
   "metadata": {},
   "outputs": [],
   "source": [
    "import torch\n",
    "from torch.utils.data import DataLoader\n",
    "class EmbeddingDataset(torch.utils.data.Dataset):\n",
    "    def __init__(self, dataset):\n",
    "        self.dataset = dataset\n",
    "    \n",
    "    def __len__(self):\n",
    "        return self.dataset[0].shape[0]\n",
    "    \n",
    "    def __getitem__(self, idx):\n",
    "        text, img = self.dataset[1][idx], self.dataset[0][idx]\n",
    "        return text, img\n",
    "\n",
    "dataset = EmbeddingDataset(data)\n",
    "data_loader = DataLoader(dataset, batch_size=64, shuffle=False)"
   ]
  },
  {
   "cell_type": "code",
   "execution_count": null,
   "id": "ed5ea82e",
   "metadata": {},
   "outputs": [],
   "source": [
    "import torch\n",
    "import torch.nn as nn\n",
    "import torch.nn.functional as F\n",
    "class TextEncoder(nn.Module):\n",
    "    def __init__(self,output_size,input_size=1024):\n",
    "        super().__init__()\n",
    "        self.layers = nn.Sequential(\n",
    "            nn.Linear(input_size, 512),\n",
    "            nn.BatchNorm1d(512),\n",
    "            nn.Dropout(0.3),\n",
    "            nn.LeakyReLU()\n",
    "        )\n",
    "        self.output = nn.Linear(512, output_size)\n",
    "    \n",
    "    def forward(self, x):\n",
    "        x = self.layers(x)\n",
    "        return self.output(x)"
   ]
  },
  {
   "cell_type": "code",
   "execution_count": null,
   "id": "0f98356e",
   "metadata": {},
   "outputs": [],
   "source": [
    "import torch\n",
    "import torch.nn as nn\n",
    "import torch.nn.functional as F\n",
    "class ImgEncoder(nn.Module):\n",
    "    def __init__(self,output_size,input_size=1024):\n",
    "        super().__init__()\n",
    "        self.layers = nn.Sequential(\n",
    "            nn.Linear(input_size, 512),\n",
    "            nn.BatchNorm1d(512),\n",
    "            nn.Dropout(),\n",
    "            nn.LeakyReLU()\n",
    "        )\n",
    "        self.output = nn.Linear(512, output_size)\n",
    "    \n",
    "    def forward(self, x):\n",
    "        x = self.layers(x)\n",
    "        return self.output(x)"
   ]
  },
  {
   "cell_type": "code",
   "execution_count": null,
   "id": "9518bfe3",
   "metadata": {},
   "outputs": [],
   "source": [
    "latent_dims = 32\n",
    "img_model = ImgEncoder(latent_dims).to('cuda') # torch.load('step2/img_model.pth')\n",
    "txt_model = TextEncoder(latent_dims).to('cuda') # torch.load('step2/text_model.pth')\n",
    "optimizer_txt = torch.optim.Adam(txt_model.parameters(), lr=1e-6, weight_decay=1e-7)\n",
    "optimizer_img = torch.optim.Adam(img_model.parameters(), lr=1e-6, weight_decay=1e-7)\n",
    "\n",
    "# scheduler_txt = torch.optim.lr_scheduler.ReduceLROnPlateau(optimizer_txt, mode='max', patience=3)\n",
    "# scheduler_img = torch.optim.lr_scheduler.ReduceLROnPlateau(optimizer_img, mode='max', patience=3)\n",
    "\n",
    "# scheduler_txt = torch.optim.lr_scheduler.MultiStepLR(optimizer_txt, milestones=[30, 35], gamma=0.1, verbose=True)\n",
    "# scheduler_img = torch.optim.lr_scheduler.MultiStepLR(optimizer_img, milestones=[30, 35], gamma=0.1, verbose=True)\n",
    "criterion = nn.MSELoss() # lambda x, y : torch.sum(1 - nn.CosineSimilarity()(x, y))"
   ]
  },
  {
   "cell_type": "code",
   "execution_count": null,
   "id": "563ba9a5",
   "metadata": {},
   "outputs": [],
   "source": [
    "import random\n",
    "import numpy as np\n",
    "import torch\n",
    "def calculate_rank_recall(txt_data, img_data):\n",
    "    results_dict = {}\n",
    "    projection_txt, projection_img = txt_data, img_data\n",
    "    \n",
    "    idxs = range(1000)\n",
    "    \n",
    "    glob_rank = []\n",
    "    glob_recall = {1:0.0,5:0.0,10:0.0}\n",
    "    \n",
    "    for i in range(10):\n",
    "        ids = random.sample(range(0,txt_data.shape[0]-1), 1000)\n",
    "        \n",
    "        txt_sample = projection_txt[ids,:]\n",
    "        img_sample = projection_img[ids,:]\n",
    "        \n",
    "        similarity = np.dot(txt_sample.cpu().numpy(), img_sample.T.cpu().numpy())\n",
    "\n",
    "        med_rank = []\n",
    "        \n",
    "        recall = {1:0.0,5:0.0,10:0.0}\n",
    "        \n",
    "        for ii in idxs:\n",
    "            # get a column of similarities\n",
    "            sim = similarity[ii,:]\n",
    "            # sort indices in descending order\n",
    "            sorting = np.argsort(sim)[::-1].tolist()\n",
    "            # find where the index of the pair sample ended up in the sorting\n",
    "            pos = sorting.index(ii)  \n",
    "            if (pos+1) == 1:\n",
    "                recall[1]+=1\n",
    "            if (pos+1) <=5:\n",
    "                recall[5]+=1\n",
    "            if (pos+1)<=10:\n",
    "                recall[10]+=1\n",
    "            # store the position\n",
    "            med_rank.append(pos+1)\n",
    "        for i in recall.keys():\n",
    "            recall[i]=recall[i]/1000\n",
    "        med = np.median(med_rank)\n",
    "        for i in recall.keys():\n",
    "            glob_recall[i]+=recall[i]\n",
    "        glob_rank.append(med)\n",
    "\n",
    "    for i in glob_recall.keys():\n",
    "        glob_recall[i] = glob_recall[i]/10\n",
    "    med_dict = {}\n",
    "    med_dict[\"mean_median\"] = np.average(glob_rank)\n",
    "    med_dict[\"recall\"] = glob_recall\n",
    "    med_dict[\"median_all\"] = glob_rank\n",
    "    print(\"Result:\",med_dict)\n",
    "    \n",
    "    return med_dict"
   ]
  },
  {
   "cell_type": "code",
   "execution_count": null,
   "id": "045769cf",
   "metadata": {},
   "outputs": [],
   "source": [
    "import time\n",
    "from tqdm import tqdm\n",
    "def train(train_loader, img_model, txt_model, criterion, optimizer_txt, optimizer_img, epoch):\n",
    "    print('Starting training epoch {}'.format(epoch))\n",
    "    img_model.train()\n",
    "    txt_model.train()   \n",
    "    running_loss = []\n",
    "    optimizer_txt.zero_grad()\n",
    "    optimizer_img.zero_grad()\n",
    "    \n",
    "    for i, (txt_emb,img_emb) in tqdm(enumerate(train_loader)):\n",
    "        \n",
    "        txt_emb = txt_emb.to('cuda')\n",
    "        img_emb = img_emb.to('cuda')\n",
    "        \n",
    "        optimizer_txt.zero_grad()\n",
    "        optimizer_img.zero_grad()\n",
    "        \n",
    "        out_txt_emb = txt_model(txt_emb)\n",
    "        out_img_emb = img_model(img_emb) \n",
    "        \n",
    "        \n",
    "        ######\n",
    "        \n",
    "        loss = criterion(out_txt_emb, out_img_emb)\n",
    "        \n",
    "        \n",
    "        loss.backward()\n",
    "        optimizer_txt.step()\n",
    "        optimizer_img.step()\n",
    "        \n",
    "        running_loss.append(loss.item())\n",
    "    return sum(running_loss)/len(running_loss)"
   ]
  },
  {
   "cell_type": "code",
   "execution_count": null,
   "id": "b218023a",
   "metadata": {
    "scrolled": true
   },
   "outputs": [],
   "source": [
    "EPOCHS = 10\n",
    "best_loss = 1e18\n",
    "res_dict={}\n",
    "for epoch in range(EPOCHS):\n",
    "    img_model.train()\n",
    "    txt_model.train()\n",
    "    train_loss = train(data_loader, img_model, txt_model, criterion, optimizer_txt, optimizer_img, epoch)\n",
    "    print('  Epoch {} loss: {}'.format(epoch, train_loss))\n",
    "    med_dict = None    \n",
    "    with torch.no_grad():\n",
    "        txt_model.eval()\n",
    "        img_model.eval()\n",
    "        out_text, out_img = txt_model(torch.tensor(val_txt).to('cuda')), img_model(torch.tensor(val_img).to('cuda'))\n",
    "        med_dict = calculate_rank_recall(out_text,out_img)\n",
    "    if med_dict['mean_median'] < best_loss:\n",
    "        print(\"BEST EPOCH:\",epoch+1)\n",
    "        torch.save(img_model, '32_mse_best_img_model.pth')\n",
    "        torch.save(txt_model, '32_mse_best_txt_model.pth')\n",
    "        best_loss = med_dict['mean_median']\n",
    "#     scheduler_img.step(train_loss)\n",
    "#     scheduler_txt.step(train_loss)\n",
    "    med_dict[\"loss\"] = train_loss\n",
    "    res_dict[\"Epoch\"+str(epoch+1)] = med_dict\n",
    "    print('------------')"
   ]
  },
  {
   "cell_type": "code",
   "execution_count": null,
   "id": "83a67593",
   "metadata": {},
   "outputs": [],
   "source": [
    "dim_arr = [32]\n",
    "for dim in dim_arr:\n",
    "    img_model=torch.load(f'{dim}_mse_best_img_model.pth')\n",
    "    txt_model = torch.load(f'{dim}_mse_best_txt_model.pth')\n",
    "    with torch.no_grad():\n",
    "        img_model.eval()\n",
    "        txt_model.eval()    \n",
    "        test_result = calculate_rank_recall(torch.tensor(txt_model(test_txt).to('cuda')),torch.tensor(img_model(test_img).to('cuda')))\n",
    "        res_dict[\"test_result\"] = test_result"
   ]
  },
  {
   "cell_type": "code",
   "execution_count": null,
   "id": "0acbf0f5",
   "metadata": {},
   "outputs": [],
   "source": [
    "import json\n",
    "with open(\"MSEresults_all_data.json\", \"w\") as outfile:\n",
    "    json.dump(res_dict, outfile)"
   ]
  }
 ],
 "metadata": {
  "kernelspec": {
   "display_name": "Python 3",
   "language": "python",
   "name": "python3"
  },
  "language_info": {
   "codemirror_mode": {
    "name": "ipython",
    "version": 3
   },
   "file_extension": ".py",
   "mimetype": "text/x-python",
   "name": "python",
   "nbconvert_exporter": "python",
   "pygments_lexer": "ipython3",
   "version": "3.8.10"
  }
 },
 "nbformat": 4,
 "nbformat_minor": 5
}
