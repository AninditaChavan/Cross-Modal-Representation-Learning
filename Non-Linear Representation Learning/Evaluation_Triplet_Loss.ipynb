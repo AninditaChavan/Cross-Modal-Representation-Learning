{
 "cells": [
  {
   "cell_type": "code",
   "execution_count": 3,
   "id": "07dbdd00",
   "metadata": {},
   "outputs": [
    {
     "name": "stderr",
     "output_type": "stream",
     "text": [
      "/common/home/apc120/.local/lib/python3.8/site-packages/tqdm/auto.py:22: TqdmWarning: IProgress not found. Please update jupyter and ipywidgets. See https://ipywidgets.readthedocs.io/en/stable/user_install.html\n",
      "  from .autonotebook import tqdm as notebook_tqdm\n"
     ]
    }
   ],
   "source": [
    "import torch\n",
    "import pickle\n",
    "with open('/common/home/apc120/Downloads/labelled/embeddings_test1.pkl', 'rb') as f1:\n",
    "    test_emb = pickle.load(f1)\n",
    "test_img_all = test_emb[0]\n",
    "test_txt_all = test_emb[1]\n",
    "\n",
    "\n",
    "with open('/common/home/apc120/Downloads/labelled/instructions_embeddings_test.pkl', 'rb') as f2:\n",
    "    test_data_instr = pickle.load(f2)\n",
    "test_txt_instr = test_data_instr[0]\n",
    "\n",
    "\n",
    "with open('/common/home/apc120/Downloads/labelled/ingredients_embeddings_test.pkl', 'rb') as f3:\n",
    "    test_data_ingr = pickle.load(f3)\n",
    "test_txt_ingr = test_data_ingr[0]\n",
    "\n",
    "\n",
    "with open('/common/home/apc120/Downloads/labelled/title_embeddings_test.pkl', 'rb') as f4:\n",
    "    test_data_title = pickle.load(f4)\n",
    "test_txt_title = test_data_title[0]"
   ]
  },
  {
   "cell_type": "code",
   "execution_count": 4,
   "id": "0a310a9f",
   "metadata": {},
   "outputs": [],
   "source": [
    "import random\n",
    "import numpy as np\n",
    "import torch\n",
    "def calculate_rank_recall(txt_data, img_data):\n",
    "    results_dict = {}\n",
    "    projection_txt, projection_img = txt_data, img_data\n",
    "    \n",
    "    idxs = range(1000)\n",
    "    \n",
    "    glob_rank = []\n",
    "    glob_recall = {1:0.0,5:0.0,10:0.0}\n",
    "    \n",
    "    for i in range(10):\n",
    "        ids = random.sample(range(0,txt_data.shape[0]-1), 1000)\n",
    "        \n",
    "        txt_sample = projection_txt[ids,:]\n",
    "        img_sample = projection_img[ids,:]\n",
    "        \n",
    "        similarity = np.dot(txt_sample.cpu().numpy(), img_sample.T.cpu().numpy())\n",
    "\n",
    "        med_rank = []\n",
    "        \n",
    "        recall = {1:0.0,5:0.0,10:0.0}\n",
    "        \n",
    "        for ii in idxs:\n",
    "            # get a column of similarities\n",
    "            sim = similarity[ii,:]\n",
    "            # sort indices in descending order\n",
    "            sorting = np.argsort(sim)[::-1].tolist()\n",
    "            # find where the index of the pair sample ended up in the sorting\n",
    "            pos = sorting.index(ii)  \n",
    "            if (pos+1) == 1:\n",
    "                recall[1]+=1\n",
    "            if (pos+1) <=5:\n",
    "                recall[5]+=1\n",
    "            if (pos+1)<=10:\n",
    "                recall[10]+=1\n",
    "            # store the position\n",
    "            med_rank.append(pos+1)\n",
    "        for i in recall.keys():\n",
    "            recall[i]=recall[i]/1000\n",
    "        med = np.median(med_rank)\n",
    "        for i in recall.keys():\n",
    "            glob_recall[i]+=recall[i]\n",
    "        glob_rank.append(med)\n",
    "\n",
    "    for i in glob_recall.keys():\n",
    "        glob_recall[i] = glob_recall[i]/10\n",
    "    med_dict = {}\n",
    "    med_dict[\"mean_median\"] = np.average(glob_rank)\n",
    "    med_dict[\"recall\"] = glob_recall\n",
    "    med_dict[\"median_all\"] = glob_rank\n",
    "    print(\"Result:\",med_dict)\n",
    "    return med_dict"
   ]
  },
  {
   "cell_type": "code",
   "execution_count": 6,
   "id": "2cfee9b8",
   "metadata": {},
   "outputs": [],
   "source": [
    "import torch\n",
    "import torch.nn as nn\n",
    "import torch.nn.functional as F\n",
    "class Encoder(nn.Module):\n",
    "    def __init__(self,output_size,input_size=1024):\n",
    "        super().__init__()\n",
    "        self.layer1 = nn.Sequential(\n",
    "            nn.Linear(input_size,512),\n",
    "            nn.BatchNorm1d(512),\n",
    "            nn.Dropout(0.3),\n",
    "            nn.LeakyReLU()\n",
    "        )\n",
    "        self.layer2 = nn.Linear(512,output_size)\n",
    "    \n",
    "    def forward(self, x):\n",
    "        x = self.layer1(x)\n",
    "        return self.layer2(x)"
   ]
  },
  {
   "cell_type": "markdown",
   "id": "7529e6c5",
   "metadata": {},
   "source": [
    "<h1>All Text Data</h1>"
   ]
  },
  {
   "cell_type": "code",
   "execution_count": 7,
   "id": "c9c857ca",
   "metadata": {},
   "outputs": [
    {
     "name": "stdout",
     "output_type": "stream",
     "text": [
      "Result: {'mean_median': 2.0, 'recall': {1: 0.4665, 5: 0.7339, 10: 0.8131}, 'median_all': [2.0, 2.0, 2.0, 2.0, 2.0, 2.0, 2.0, 2.0, 2.0, 2.0]}\n"
     ]
    }
   ],
   "source": [
    "img_model=torch.load('best_img_model_all.pth')\n",
    "txt_model = torch.load('best_txt_model_all.pth')\n",
    "with torch.no_grad():    \n",
    "    img_model.eval()\n",
    "    txt_model.eval()\n",
    "    test_result = calculate_rank_recall(txt_model(torch.tensor(test_txt_all).to('cuda')),img_model(torch.tensor(test_img_all).to('cuda')))\n",
    "    "
   ]
  },
  {
   "cell_type": "markdown",
   "id": "74d20c36",
   "metadata": {},
   "source": [
    "<h1>Instructions</h1>"
   ]
  },
  {
   "cell_type": "code",
   "execution_count": 9,
   "id": "73176cba",
   "metadata": {},
   "outputs": [
    {
     "name": "stdout",
     "output_type": "stream",
     "text": [
      "Result: {'mean_median': 15.8, 'recall': {1: 0.1254, 5: 0.31520000000000004, 10: 0.42689999999999995}, 'median_all': [15.0, 17.0, 15.0, 17.0, 16.0, 16.0, 14.0, 15.0, 18.0, 15.0]}\n"
     ]
    }
   ],
   "source": [
    "img_model=torch.load('best_img_model_instr.pth')\n",
    "txt_model = torch.load('best_txt_model_instr.pth')\n",
    "with torch.no_grad():\n",
    "    img_model.eval()\n",
    "    txt_model.eval()\n",
    "    test_result = calculate_rank_recall(txt_model(torch.tensor(test_txt_instr).to('cuda')),img_model(torch.tensor(test_img_all).to('cuda')))"
   ]
  },
  {
   "cell_type": "markdown",
   "id": "27aa9cfe",
   "metadata": {},
   "source": [
    "<h1>Ingredients</h1>"
   ]
  },
  {
   "cell_type": "code",
   "execution_count": 10,
   "id": "b964c620",
   "metadata": {},
   "outputs": [
    {
     "name": "stdout",
     "output_type": "stream",
     "text": [
      "Result: {'mean_median': 15.6, 'recall': {1: 0.12800000000000003, 5: 0.323, 10: 0.43439999999999995}, 'median_all': [17.0, 17.0, 15.0, 14.0, 16.0, 16.0, 16.0, 14.0, 15.0, 16.0]}\n"
     ]
    }
   ],
   "source": [
    "img_model=torch.load('best_img_model_ingr.pth')\n",
    "txt_model = torch.load('best_txt_model_ingr.pth')\n",
    "with torch.no_grad():\n",
    "    img_model.eval()\n",
    "    txt_model.eval()\n",
    "    test_result = calculate_rank_recall(txt_model(torch.tensor(test_txt_ingr).to('cuda')),img_model(torch.tensor(test_img_all).to('cuda')))"
   ]
  },
  {
   "cell_type": "markdown",
   "id": "7c7ffb3b",
   "metadata": {},
   "source": [
    "<h1>Title</h1>"
   ]
  },
  {
   "cell_type": "code",
   "execution_count": 12,
   "id": "c46a8006",
   "metadata": {},
   "outputs": [
    {
     "name": "stdout",
     "output_type": "stream",
     "text": [
      "Result: {'mean_median': 309.55, 'recall': {1: 0.011099999999999999, 5: 0.0383, 10: 0.05850000000000001}, 'median_all': [319.0, 317.0, 306.0, 308.5, 306.5, 298.0, 310.5, 321.0, 311.0, 298.0]}\n"
     ]
    }
   ],
   "source": [
    "img_model=torch.load('best_img_model_title.pth')\n",
    "txt_model = torch.load('best_txt_model_title.pth')\n",
    "with torch.no_grad():   \n",
    "    img_model.eval()\n",
    "    txt_model.eval()\n",
    "    test_result = calculate_rank_recall(txt_model(torch.tensor(test_txt_title).to('cuda')),img_model(torch.tensor(test_img_all).to('cuda')))"
   ]
  }
 ],
 "metadata": {
  "kernelspec": {
   "display_name": "Python 3",
   "language": "python",
   "name": "python3"
  },
  "language_info": {
   "codemirror_mode": {
    "name": "ipython",
    "version": 3
   },
   "file_extension": ".py",
   "mimetype": "text/x-python",
   "name": "python",
   "nbconvert_exporter": "python",
   "pygments_lexer": "ipython3",
   "version": "3.8.10"
  }
 },
 "nbformat": 4,
 "nbformat_minor": 5
}
